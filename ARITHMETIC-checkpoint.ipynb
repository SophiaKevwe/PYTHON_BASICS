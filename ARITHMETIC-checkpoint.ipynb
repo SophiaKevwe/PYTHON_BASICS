{
 "cells": [
  {
   "cell_type": "code",
   "execution_count": 1,
   "id": "84d9ba32",
   "metadata": {},
   "outputs": [
    {
     "name": "stdout",
     "output_type": "stream",
     "text": [
      "Please enter your monthly salary: 3000\n",
      "Your monthly salary is  3000.0 naira.\n",
      "In a second you earn  1.9290123456790126e-05\n",
      "In a minute you earn  0.0011574074074074076\n",
      "In an hour you earn  4.166666666666667\n",
      "In a day you earn  100.0\n",
      "In a week you earn  700.0\n",
      "In a year you earn  36000.0\n",
      "In 50 years you will earn  5400000000.0\n"
     ]
    }
   ],
   "source": [
    "sal=float(input(\"Please enter your monthly salary: \"))\n",
    "day=sal/30\n",
    "week=day*7\n",
    "hour=day/24\n",
    "minu=hour/3600\n",
    "sec=minu/60\n",
    "year=12*sal\n",
    "fifty=sal*year*50\n",
    "print(\"Your monthly salary is \",sal,\"naira.\")\n",
    "print(\"In a second you earn \",sec)\n",
    "print(\"In a minute you earn \",minu)\n",
    "print(\"In an hour you earn \",hour)\n",
    "print(\"In a day you earn \",day)\n",
    "print(\"In a week you earn \",week)\n",
    "print(\"In a year you earn \",year)\n",
    "print(\"In 50 years you will earn \",fifty)\n"
   ]
  },
  {
   "cell_type": "code",
   "execution_count": null,
   "id": "351f48f2",
   "metadata": {},
   "outputs": [],
   "source": []
  }
 ],
 "metadata": {
  "kernelspec": {
   "display_name": "Python 3",
   "language": "python",
   "name": "python3"
  },
  "language_info": {
   "codemirror_mode": {
    "name": "ipython",
    "version": 3
   },
   "file_extension": ".py",
   "mimetype": "text/x-python",
   "name": "python",
   "nbconvert_exporter": "python",
   "pygments_lexer": "ipython3",
   "version": "3.8.8"
  }
 },
 "nbformat": 4,
 "nbformat_minor": 5
}
