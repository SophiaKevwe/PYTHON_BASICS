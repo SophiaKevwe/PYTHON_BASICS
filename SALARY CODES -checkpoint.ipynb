{
 "cells": [
  {
   "cell_type": "code",
   "execution_count": 6,
   "id": "67513fc5",
   "metadata": {},
   "outputs": [
    {
     "name": "stdout",
     "output_type": "stream",
     "text": [
      "In a deposit of  1200 naira 37.08 naira is added.\n",
      "In a deposit of  550 naira 16.995 naira is added.\n",
      "In a deposit of  50100 naira 1548.09 naira is added.\n",
      "In a deposit of  14510 naira 448.359 naira is added.\n",
      "In a deposit of  505 naira 15.6045 naira is added.\n",
      "The sum of bonus credit for all the amount is  2066.1285\n"
     ]
    }
   ],
   "source": [
    "a=1200\n",
    "b=550\n",
    "c=50100\n",
    "d=14510\n",
    "e=505\n",
    "n=1\n",
    "bonus = 15.45\n",
    "apay=a/500 \n",
    "bpay=b/500\n",
    "cpay=c/500\n",
    "dpay=d/500\n",
    "epay=e/500 \n",
    "while n<2:\n",
    "    print(\"In a deposit of \",a,\"naira\",apay*bonus,\"naira is added.\")\n",
    "    print(\"In a deposit of \",b,\"naira\",bpay*bonus,\"naira is added.\")\n",
    "    print(\"In a deposit of \",c,\"naira\",cpay*bonus,\"naira is added.\")\n",
    "    print(\"In a deposit of \",d,\"naira\",dpay*bonus,\"naira is added.\")\n",
    "    print(\"In a deposit of \",e,\"naira\",epay*bonus,\"naira is added.\")\n",
    "    n=n+1\n",
    "sum=(apay*bonus)+(bpay*bonus)+(cpay*bonus)+(dpay*bonus)+(epay*bonus)\n",
    "print(\"The sum of bonus credit for all the amount is \",sum)"
   ]
  },
  {
   "cell_type": "code",
   "execution_count": null,
   "id": "1b7dd3b6",
   "metadata": {},
   "outputs": [],
   "source": []
  }
 ],
 "metadata": {
  "kernelspec": {
   "display_name": "Python 3",
   "language": "python",
   "name": "python3"
  },
  "language_info": {
   "codemirror_mode": {
    "name": "ipython",
    "version": 3
   },
   "file_extension": ".py",
   "mimetype": "text/x-python",
   "name": "python",
   "nbconvert_exporter": "python",
   "pygments_lexer": "ipython3",
   "version": "3.8.8"
  }
 },
 "nbformat": 4,
 "nbformat_minor": 5
}
